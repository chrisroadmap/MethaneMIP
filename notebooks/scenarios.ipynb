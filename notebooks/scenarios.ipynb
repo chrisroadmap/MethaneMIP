{
 "cells": [
  {
   "cell_type": "markdown",
   "id": "0",
   "metadata": {},
   "source": [
    "# Run MethaneMIP scenarios\n",
    "\n",
    "Use fair calibration v1.4.0, which is appropriate for SSP scenarios with corrected NOx emissions."
   ]
  },
  {
   "cell_type": "code",
   "execution_count": null,
   "id": "1",
   "metadata": {},
   "outputs": [],
   "source": [
    "import matplotlib.pyplot as pl\n",
    "import numpy as np\n",
    "import pandas as pd\n",
    "\n",
    "from fair import FAIR\n",
    "from fair.interface import fill, initialise\n",
    "from fair.io import read_properties"
   ]
  },
  {
   "cell_type": "code",
   "execution_count": null,
   "id": "2",
   "metadata": {},
   "outputs": [],
   "source": [
    "f = FAIR(ch4_method=\"Thornhill2021\")"
   ]
  },
  {
   "cell_type": "markdown",
   "id": "3",
   "metadata": {},
   "source": [
    "MethaneMIP scenarios are defined to 2050. CMIP7 might run to 2125, so I have extended to 2030 since emissions are given at 10 years"
   ]
  },
  {
   "cell_type": "code",
   "execution_count": null,
   "id": "4",
   "metadata": {},
   "outputs": [],
   "source": [
    "f.define_time(1750, 2131, 1)"
   ]
  },
  {
   "cell_type": "code",
   "execution_count": null,
   "id": "5",
   "metadata": {},
   "outputs": [],
   "source": [
    "scenarios = [\n",
    "    'ssp245',\n",
    "    'ssp245-ModAggr',\n",
    "    'ssp245-Aggr',\n",
    "]"
   ]
  },
  {
   "cell_type": "code",
   "execution_count": null,
   "id": "6",
   "metadata": {},
   "outputs": [],
   "source": [
    "f.define_scenarios(scenarios)"
   ]
  },
  {
   "cell_type": "code",
   "execution_count": null,
   "id": "7",
   "metadata": {},
   "outputs": [],
   "source": [
    "fair_params_1_4_0_file = '../data/parameters/calibrated_constrained_parameters_1.4.0.csv'"
   ]
  },
  {
   "cell_type": "code",
   "execution_count": null,
   "id": "8",
   "metadata": {},
   "outputs": [],
   "source": [
    "df_configs = pd.read_csv(fair_params_1_4_0_file, index_col=0)\n",
    "configs = df_configs.index  # this is used as a label for the \"config\" axis\n",
    "f.define_configs(configs)"
   ]
  },
  {
   "cell_type": "code",
   "execution_count": null,
   "id": "9",
   "metadata": {},
   "outputs": [],
   "source": [
    "fair_species_configs_1_4_0_file = '../data/parameters/species_configs_properties_1.4.0.csv'"
   ]
  },
  {
   "cell_type": "code",
   "execution_count": null,
   "id": "10",
   "metadata": {},
   "outputs": [],
   "source": [
    "species, properties = read_properties(filename=fair_species_configs_1_4_0_file)\n",
    "f.define_species(species, properties)"
   ]
  },
  {
   "cell_type": "code",
   "execution_count": null,
   "id": "11",
   "metadata": {},
   "outputs": [],
   "source": [
    "f.allocate()"
   ]
  },
  {
   "cell_type": "code",
   "execution_count": null,
   "id": "12",
   "metadata": {},
   "outputs": [],
   "source": [
    "f.fill_from_csv(\n",
    "    emissions_file='../data/emissions/methane-emissions-scenarios.csv',\n",
    "    forcing_file='../data/forcing/volcanic_solar.csv',\n",
    ")"
   ]
  },
  {
   "cell_type": "code",
   "execution_count": null,
   "id": "13",
   "metadata": {},
   "outputs": [],
   "source": [
    "fill(\n",
    "    f.forcing,\n",
    "    f.forcing.sel(specie=\"Volcanic\") * df_configs[\"forcing_scale[Volcanic]\"].values.squeeze(),\n",
    "    specie=\"Volcanic\",\n",
    ")\n",
    "fill(\n",
    "    f.forcing,\n",
    "    f.forcing.sel(specie=\"Solar\") * df_configs[\"forcing_scale[Solar]\"].values.squeeze(),\n",
    "    specie=\"Solar\",\n",
    ")"
   ]
  },
  {
   "cell_type": "code",
   "execution_count": null,
   "id": "14",
   "metadata": {},
   "outputs": [],
   "source": [
    "f.fill_species_configs(fair_species_configs_1_4_0_file)\n",
    "f.override_defaults(fair_params_1_4_0_file)"
   ]
  },
  {
   "cell_type": "code",
   "execution_count": null,
   "id": "15",
   "metadata": {},
   "outputs": [],
   "source": [
    "initialise(f.concentration, f.species_configs[\"baseline_concentration\"])\n",
    "initialise(f.forcing, 0)\n",
    "initialise(f.temperature, 0)\n",
    "initialise(f.cumulative_emissions, 0)\n",
    "initialise(f.airborne_emissions, 0)\n",
    "initialise(f.ocean_heat_content_change, 0)"
   ]
  },
  {
   "cell_type": "code",
   "execution_count": null,
   "id": "16",
   "metadata": {},
   "outputs": [],
   "source": [
    "f.run()"
   ]
  },
  {
   "cell_type": "code",
   "execution_count": null,
   "id": "17",
   "metadata": {},
   "outputs": [],
   "source": [
    "pl.plot(f.concentration.sel(specie='CH4', scenario='ssp245'), color='r');\n",
    "pl.plot(f.concentration.sel(specie='CH4', scenario='ssp245-ModAggr'), color='k');\n",
    "pl.plot(f.concentration.sel(specie='CH4', scenario='ssp245-Aggr'), color='b');\n",
    "pl.xlim(250, 300)"
   ]
  },
  {
   "cell_type": "code",
   "execution_count": null,
   "id": "18",
   "metadata": {},
   "outputs": [],
   "source": [
    "pl.plot(10 * f.alpha_lifetime.sel(specie='CH4', scenario='ssp245'), color='r');\n",
    "pl.plot(10 * f.alpha_lifetime.sel(specie='CH4', scenario='ssp245-ModAggr'), color='k');\n",
    "pl.plot(10 * f.alpha_lifetime.sel(specie='CH4', scenario='ssp245-Aggr'), color='b');\n",
    "pl.xlim(250, 300)"
   ]
  },
  {
   "cell_type": "code",
   "execution_count": null,
   "id": "19",
   "metadata": {},
   "outputs": [],
   "source": [
    "pl.plot(f.temperature.sel(layer=0, scenario='ssp245').median(dim='config'), color='r');\n",
    "pl.plot(f.temperature.sel(layer=0, scenario='ssp245-ModAggr').median(dim='config'), color='k');\n",
    "pl.plot(f.temperature.sel(layer=0, scenario='ssp245-Aggr').median(dim='config'), color='b');\n",
    "pl.xlim(250, 300)\n",
    "pl.ylim(0.5, 2.0)"
   ]
  },
  {
   "cell_type": "code",
   "execution_count": null,
   "id": "20",
   "metadata": {},
   "outputs": [],
   "source": [
    "f.forcing.sel(specie='CH4', scenario='ssp245') - f.forcing.sel(specie='CH4', scenario='ssp245-Aggr')\n",
    "f.forcing.sel(specie='Ozone', scenario='ssp245') - f.forcing.sel(specie='Ozone', scenario='ssp245-Aggr')\n",
    "f.forcing.sel(specie='Stratospheric water vapour', scenario='ssp245') - f.forcing.sel(specie='Stratospheric water vapour', scenario='ssp245-Aggr')\n",
    "f.forcing.sel(specie='Aerosol-radiation interactions', scenario='ssp245') - f.forcing.sel(specie='Aerosol-radiation interactions', scenario='ssp245-Aggr')\n",
    "\n",
    "#f.forcing.sel(specie='Ozone')\n",
    "#f.forcing.sel(specie='Aerosol-radiation interactions')"
   ]
  },
  {
   "cell_type": "code",
   "execution_count": null,
   "id": "21",
   "metadata": {},
   "outputs": [],
   "source": [
    "pd.DataFrame(\n",
    "    f.concentration.sel(specie='CH4').interp(timebounds=f.timepoints).median(dim='config'),\n",
    "    index=f.timepoints,\n",
    "    columns=f.scenarios\n",
    ").to_csv('../output/ch4-concentration-medians.csv')"
   ]
  },
  {
   "cell_type": "code",
   "execution_count": null,
   "id": "22",
   "metadata": {},
   "outputs": [],
   "source": []
  }
 ],
 "metadata": {
  "kernelspec": {
   "display_name": "Python 3 (ipykernel)",
   "language": "python",
   "name": "python3"
  },
  "language_info": {
   "codemirror_mode": {
    "name": "ipython",
    "version": 3
   },
   "file_extension": ".py",
   "mimetype": "text/x-python",
   "name": "python",
   "nbconvert_exporter": "python",
   "pygments_lexer": "ipython3",
   "version": "3.11.0"
  }
 },
 "nbformat": 4,
 "nbformat_minor": 5
}
