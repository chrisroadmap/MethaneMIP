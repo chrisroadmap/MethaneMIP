{
 "cells": [
  {
   "cell_type": "markdown",
   "id": "0",
   "metadata": {},
   "source": [
    "# Run MethaneMIP scenarios\n",
    "\n",
    "Use fair calibration v1.4.0, which is appropriate for SSP scenarios with corrected NOx emissions."
   ]
  },
  {
   "cell_type": "code",
   "execution_count": null,
   "id": "1",
   "metadata": {},
   "outputs": [],
   "source": [
    "import logging\n",
    "\n",
    "import matplotlib.pyplot as pl\n",
    "import numpy as np\n",
    "import pandas as pd\n",
    "import xarray as xr\n",
    "\n",
    "from fair import FAIR\n",
    "from fair.interface import fill, initialise\n",
    "from fair.io import read_properties"
   ]
  },
  {
   "cell_type": "code",
   "execution_count": null,
   "id": "2",
   "metadata": {},
   "outputs": [],
   "source": [
    "logger = logging.getLogger('fair')\n",
    "logger.setLevel(level=logging.CRITICAL)"
   ]
  },
  {
   "cell_type": "code",
   "execution_count": null,
   "id": "3",
   "metadata": {},
   "outputs": [],
   "source": [
    "f = FAIR(ch4_method=\"Thornhill2021\")"
   ]
  },
  {
   "cell_type": "markdown",
   "id": "4",
   "metadata": {},
   "source": [
    "MethaneMIP scenarios are defined to 2050. CMIP7 might run to 2125, so I have extended to 2030 since emissions are given at 10 years"
   ]
  },
  {
   "cell_type": "code",
   "execution_count": null,
   "id": "5",
   "metadata": {},
   "outputs": [],
   "source": [
    "f.define_time(1750, 2131, 1)"
   ]
  },
  {
   "cell_type": "code",
   "execution_count": null,
   "id": "6",
   "metadata": {},
   "outputs": [],
   "source": [
    "scenarios = [\n",
    "    'ssp245',\n",
    "    'ssp245-ModAggr',\n",
    "    'ssp245-Aggr',\n",
    "]"
   ]
  },
  {
   "cell_type": "code",
   "execution_count": null,
   "id": "7",
   "metadata": {},
   "outputs": [],
   "source": [
    "f.define_scenarios(scenarios)"
   ]
  },
  {
   "cell_type": "code",
   "execution_count": null,
   "id": "8",
   "metadata": {},
   "outputs": [],
   "source": [
    "fair_params_1_4_0_file = '../data/parameters/calibrated_constrained_parameters_1.4.0.csv'"
   ]
  },
  {
   "cell_type": "code",
   "execution_count": null,
   "id": "9",
   "metadata": {},
   "outputs": [],
   "source": [
    "df_configs = pd.read_csv(fair_params_1_4_0_file, index_col=0)\n",
    "configs = df_configs.index  # this is used as a label for the \"config\" axis\n",
    "f.define_configs(configs)"
   ]
  },
  {
   "cell_type": "code",
   "execution_count": null,
   "id": "10",
   "metadata": {},
   "outputs": [],
   "source": [
    "fair_species_configs_1_4_0_file = '../data/parameters/species_configs_properties_1.4.0.csv'"
   ]
  },
  {
   "cell_type": "code",
   "execution_count": null,
   "id": "11",
   "metadata": {},
   "outputs": [],
   "source": [
    "species, properties = read_properties(filename=fair_species_configs_1_4_0_file)\n",
    "f.define_species(species, properties)"
   ]
  },
  {
   "cell_type": "code",
   "execution_count": null,
   "id": "12",
   "metadata": {},
   "outputs": [],
   "source": [
    "f.allocate()"
   ]
  },
  {
   "cell_type": "code",
   "execution_count": null,
   "id": "13",
   "metadata": {},
   "outputs": [],
   "source": [
    "f.fill_from_csv(\n",
    "    emissions_file='../data/emissions/methane-emissions-scenarios.csv',\n",
    "    forcing_file='../data/forcing/volcanic_solar.csv',\n",
    ")"
   ]
  },
  {
   "cell_type": "code",
   "execution_count": null,
   "id": "14",
   "metadata": {},
   "outputs": [],
   "source": [
    "fill(\n",
    "    f.forcing,\n",
    "    f.forcing.sel(specie=\"Volcanic\") * df_configs[\"forcing_scale[Volcanic]\"].values.squeeze(),\n",
    "    specie=\"Volcanic\",\n",
    ")\n",
    "fill(\n",
    "    f.forcing,\n",
    "    f.forcing.sel(specie=\"Solar\") * df_configs[\"forcing_scale[Solar]\"].values.squeeze(),\n",
    "    specie=\"Solar\",\n",
    ")"
   ]
  },
  {
   "cell_type": "code",
   "execution_count": null,
   "id": "15",
   "metadata": {},
   "outputs": [],
   "source": [
    "f.fill_species_configs(fair_species_configs_1_4_0_file)\n",
    "f.override_defaults(fair_params_1_4_0_file)"
   ]
  },
  {
   "cell_type": "code",
   "execution_count": null,
   "id": "16",
   "metadata": {},
   "outputs": [],
   "source": [
    "initialise(f.concentration, f.species_configs[\"baseline_concentration\"])\n",
    "initialise(f.forcing, 0)\n",
    "initialise(f.temperature, 0)\n",
    "initialise(f.cumulative_emissions, 0)\n",
    "initialise(f.airborne_emissions, 0)\n",
    "initialise(f.ocean_heat_content_change, 0)"
   ]
  },
  {
   "cell_type": "code",
   "execution_count": null,
   "id": "17",
   "metadata": {},
   "outputs": [],
   "source": [
    "f.run()"
   ]
  },
  {
   "cell_type": "code",
   "execution_count": null,
   "id": "18",
   "metadata": {},
   "outputs": [],
   "source": [
    "pl.plot(f.concentration.sel(specie='CH4', scenario='ssp245'), color='r');\n",
    "pl.plot(f.concentration.sel(specie='CH4', scenario='ssp245-ModAggr'), color='k');\n",
    "pl.plot(f.concentration.sel(specie='CH4', scenario='ssp245-Aggr'), color='b');\n",
    "pl.xlim(250, 300)"
   ]
  },
  {
   "cell_type": "code",
   "execution_count": null,
   "id": "19",
   "metadata": {},
   "outputs": [],
   "source": [
    "pd.DataFrame(\n",
    "    f.concentration.sel(specie='CH4').interp(timebounds=f.timepoints).median(dim='config'),\n",
    "    index=f.timepoints,\n",
    "    columns=f.scenarios\n",
    ").to_csv('../output/ch4-concentration-medians.csv')"
   ]
  },
  {
   "cell_type": "code",
   "execution_count": null,
   "id": "20",
   "metadata": {},
   "outputs": [],
   "source": [
    "pl.plot(10 * f.alpha_lifetime.sel(specie='CH4', scenario='ssp245'), color='r');\n",
    "pl.plot(10 * f.alpha_lifetime.sel(specie='CH4', scenario='ssp245-ModAggr'), color='k');\n",
    "pl.plot(10 * f.alpha_lifetime.sel(specie='CH4', scenario='ssp245-Aggr'), color='b');\n",
    "pl.xlim(250, 300)"
   ]
  },
  {
   "cell_type": "code",
   "execution_count": null,
   "id": "21",
   "metadata": {},
   "outputs": [],
   "source": [
    "weights = np.zeros((382, 3, 841))\n",
    "weights[100, :, :] = 0.5\n",
    "weights[101:151, :, :] = 1\n",
    "weights[151, :, :] = 0.5\n",
    "weights = xr.DataArray(\n",
    "    weights, \n",
    "    dims=f.temperature.sel(layer=0).dims, \n",
    "    coords=f.temperature.sel(layer=0).coords\n",
    ")"
   ]
  },
  {
   "cell_type": "code",
   "execution_count": null,
   "id": "22",
   "metadata": {},
   "outputs": [],
   "source": [
    "temp_rel_1850_1900 = (\n",
    "    f.temperature.sel(layer=0) - \n",
    "    f.temperature.sel(layer=0, timebounds=np.arange(1850, 1902)).weighted(weights).mean(dim=\"timebounds\")\n",
    ").interp(timebounds=f.timepoints)"
   ]
  },
  {
   "cell_type": "code",
   "execution_count": null,
   "id": "23",
   "metadata": {},
   "outputs": [],
   "source": [
    "temp_rel_1850_1900"
   ]
  },
  {
   "cell_type": "code",
   "execution_count": null,
   "id": "24",
   "metadata": {},
   "outputs": [],
   "source": [
    "ds = xr.Dataset(\n",
    "    data_vars = dict(\n",
    "        temperature = ([\"timepoints\", \"scenario\", \"config\"], temp_rel_1850_1900.data),\n",
    "    ),\n",
    "    coords = dict(\n",
    "        timepoints = f.timepoints,\n",
    "        config = f.configs,\n",
    "        scenario = f.scenarios,\n",
    "    ),\n",
    ")"
   ]
  },
  {
   "cell_type": "code",
   "execution_count": null,
   "id": "25",
   "metadata": {},
   "outputs": [],
   "source": [
    "ds.to_netcdf('../output/temperature-relative-to-1850-1900.nc')"
   ]
  },
  {
   "cell_type": "code",
   "execution_count": null,
   "id": "26",
   "metadata": {},
   "outputs": [],
   "source": [
    "pl.plot(temp_rel_1850_1900.sel(scenario='ssp245').median(dim='config'), color='r');\n",
    "pl.plot(temp_rel_1850_1900.sel(scenario='ssp245-ModAggr').median(dim='config'), color='k');\n",
    "pl.plot(temp_rel_1850_1900.sel(scenario='ssp245-Aggr').median(dim='config'), color='b');\n",
    "pl.xlim(250, 300)\n",
    "pl.ylim(0.5, 2.0)"
   ]
  },
  {
   "cell_type": "code",
   "execution_count": null,
   "id": "27",
   "metadata": {},
   "outputs": [],
   "source": [
    "colors = {\n",
    "    'ssp245': '#793702',\n",
    "    'ssp245-ModAggr': '#e3da91',\n",
    "    'ssp245-Aggr': '#19a5b7'\n",
    "}\n",
    "\n",
    "labels = {\n",
    "    'ssp245': 'Current policies',\n",
    "    'ssp245-ModAggr': 'Moderate action',\n",
    "    'ssp245-Aggr': 'Maximum feasibility'\n",
    "}"
   ]
  },
  {
   "cell_type": "code",
   "execution_count": null,
   "id": "28",
   "metadata": {},
   "outputs": [],
   "source": [
    "pl.style.use('../defaults.mplstyle')"
   ]
  },
  {
   "cell_type": "code",
   "execution_count": null,
   "id": "29",
   "metadata": {},
   "outputs": [],
   "source": [
    "fig, ax = pl.subplots(1, 3, figsize=(16/2.54, 5/2.54))\n",
    "\n",
    "for scenario in scenarios:\n",
    "    ax[0].plot(\n",
    "        np.arange(2014.5, 2061), \n",
    "        f.emissions.sel(specie='CH4', scenario=scenario, config=f.configs[0], timepoints=np.arange(2014.5, 2061)),\n",
    "        color=colors[scenario]\n",
    "    )\n",
    "ax[0].set_xlim(2015, 2060)\n",
    "ax[0].set_ylim(0, 420)\n",
    "ax[0].set_ylabel('Million tons per year')\n",
    "ax[0].set_title('Methane emissions')\n",
    "\n",
    "for scenario in scenarios:\n",
    "    ax[1].fill_between(\n",
    "        np.arange(2015, 2061), \n",
    "        f.concentration.sel(\n",
    "            specie='CH4',\n",
    "            scenario=scenario,\n",
    "            timebounds=np.arange(2015, 2061)\n",
    "        ).quantile(0.05, dim='config'),\n",
    "        f.concentration.sel(\n",
    "            specie='CH4',\n",
    "            scenario=scenario,\n",
    "            timebounds=np.arange(2015, 2061)\n",
    "        ).quantile(0.95, dim='config'),\n",
    "        color=colors[scenario],\n",
    "        alpha=0.3\n",
    "    );\n",
    "    ax[1].plot(\n",
    "        np.arange(2015, 2061), \n",
    "        f.concentration.sel(specie='CH4', scenario=scenario, timebounds=np.arange(2015, 2061)).median(dim='config'),\n",
    "        color=colors[scenario],\n",
    "        label=labels[scenario]\n",
    "    );\n",
    "ax[1].set_xlim(2015, 2060)\n",
    "ax[1].set_ylim(0, 2100)\n",
    "ax[1].set_ylabel('parts per billion')\n",
    "ax[1].set_title('Methane concentrations')\n",
    "ax[1].legend(frameon=False)\n",
    "\n",
    "for scenario in scenarios:\n",
    "    ax[2].fill_between(\n",
    "        np.arange(2014.5, 2061), \n",
    "        (\n",
    "            temp_rel_1850_1900.sel(\n",
    "                scenario=scenario, \n",
    "                timebounds=np.arange(2014.5, 2061)\n",
    "            ) - temp_rel_1850_1900.sel(\n",
    "                scenario='ssp245', \n",
    "                timebounds=np.arange(2014.5, 2061)\n",
    "            )\n",
    "        ).quantile(0.05, dim='config'),\n",
    "        (\n",
    "            temp_rel_1850_1900.sel(\n",
    "                scenario=scenario, \n",
    "                timebounds=np.arange(2014.5, 2061)\n",
    "            ) - temp_rel_1850_1900.sel(\n",
    "                scenario='ssp245', \n",
    "                timebounds=np.arange(2014.5, 2061)\n",
    "            )\n",
    "        ).quantile(0.95, dim='config'),\n",
    "        color=colors[scenario],\n",
    "        alpha=0.3\n",
    "    );\n",
    "    ax[2].plot(\n",
    "        np.arange(2014.5, 2061), \n",
    "        (\n",
    "            temp_rel_1850_1900.sel(\n",
    "                scenario=scenario, \n",
    "                timebounds=np.arange(2014.5, 2061)\n",
    "            ) - temp_rel_1850_1900.sel(\n",
    "                scenario='ssp245', \n",
    "                timebounds=np.arange(2014.5, 2061)\n",
    "            )\n",
    "        ).median(dim='config'),\n",
    "        color=colors[scenario]\n",
    "    );\n",
    "ax[2].set_xlim(2015, 2060)\n",
    "ax[2].set_ylim(-0.4, 0.02)\n",
    "ax[2].set_title('Avoided warming')\n",
    "ax[2].set_ylabel('°C')\n",
    "\n",
    "fig.tight_layout()\n",
    "pl.savefig('../output/emis_conc_temp.png')"
   ]
  },
  {
   "cell_type": "code",
   "execution_count": null,
   "id": "30",
   "metadata": {},
   "outputs": [],
   "source": [
    "f.forcing.sel(specie='CH4', scenario='ssp245') - f.forcing.sel(specie='CH4', scenario='ssp245-Aggr')\n",
    "f.forcing.sel(specie='Ozone', scenario='ssp245') - f.forcing.sel(specie='Ozone', scenario='ssp245-Aggr')\n",
    "f.forcing.sel(specie='Stratospheric water vapour', scenario='ssp245') - f.forcing.sel(specie='Stratospheric water vapour', scenario='ssp245-Aggr')\n",
    "f.forcing.sel(specie='Aerosol-radiation interactions', scenario='ssp245') - f.forcing.sel(specie='Aerosol-radiation interactions', scenario='ssp245-Aggr')\n",
    "\n",
    "#f.forcing.sel(specie='Ozone')\n",
    "#f.forcing.sel(specie='Aerosol-radiation interactions')"
   ]
  },
  {
   "cell_type": "code",
   "execution_count": null,
   "id": "31",
   "metadata": {},
   "outputs": [],
   "source": [
    "pl.plot(f.forcing_sum.sel(scenario='ssp245').median(dim='config'))\n",
    "pl.plot(\n",
    "    (\n",
    "        f.forcing_sum.sel(scenario='ssp245') - (\n",
    "            f.forcing.sel(specie='CH4', scenario='ssp245') - \n",
    "            f.forcing.sel(specie='CH4', scenario='ssp245-Aggr')\n",
    "        )\n",
    "    ).median(dim='config')\n",
    ")"
   ]
  },
  {
   "cell_type": "code",
   "execution_count": null,
   "id": "32",
   "metadata": {},
   "outputs": [],
   "source": [
    "forcing_variants = np.ones((382, 8, 841, 1)) * np.nan\n",
    "\n",
    "inner = ['ssp245-ModAggr', 'ssp245-Aggr']\n",
    "outer = ['CH4', 'Ozone', 'Stratospheric water vapour', 'Aerosol-radiation interactions']\n",
    "\n",
    "n_i = 2\n",
    "n_o = 4\n",
    "\n",
    "names = []\n",
    "\n",
    "for i_o, specie in enumerate(outer):\n",
    "    for i_i, scen in enumerate(inner):\n",
    "        i = i_o * 2 + i_i\n",
    "        name = scen + \" | \" + specie\n",
    "        names.append(name)\n",
    "        forcing_variants[:, i, :, 0] = (\n",
    "            f.forcing_sum.sel(scenario='ssp245') - (\n",
    "                f.forcing.sel(specie=specie, scenario='ssp245') - \n",
    "                f.forcing.sel(specie=specie, scenario=scen)\n",
    "            )\n",
    "        ).data"
   ]
  },
  {
   "cell_type": "code",
   "execution_count": null,
   "id": "33",
   "metadata": {},
   "outputs": [],
   "source": [
    "pl.plot(forcing_variants[:, :, 0, 0])"
   ]
  },
  {
   "cell_type": "code",
   "execution_count": null,
   "id": "34",
   "metadata": {},
   "outputs": [],
   "source": [
    "names"
   ]
  },
  {
   "cell_type": "code",
   "execution_count": null,
   "id": "35",
   "metadata": {},
   "outputs": [],
   "source": [
    "g = FAIR()"
   ]
  },
  {
   "cell_type": "code",
   "execution_count": null,
   "id": "36",
   "metadata": {},
   "outputs": [],
   "source": [
    "g.define_time(1750, 2131, 1)"
   ]
  },
  {
   "cell_type": "code",
   "execution_count": null,
   "id": "37",
   "metadata": {},
   "outputs": [],
   "source": [
    "g.define_scenarios(names)"
   ]
  },
  {
   "cell_type": "code",
   "execution_count": null,
   "id": "38",
   "metadata": {},
   "outputs": [],
   "source": [
    "g.define_configs(configs)"
   ]
  },
  {
   "cell_type": "code",
   "execution_count": null,
   "id": "39",
   "metadata": {},
   "outputs": [],
   "source": [
    "properties"
   ]
  },
  {
   "cell_type": "code",
   "execution_count": null,
   "id": "40",
   "metadata": {},
   "outputs": [],
   "source": [
    "species = [\"forcing\"]\n",
    "properties = {\n",
    "    \"forcing\": {\n",
    "        \"type\": \"unspecified\",\n",
    "        \"input_mode\": \"forcing\",\n",
    "        \"greenhouse_gas\": False,\n",
    "        'aerosol_chemistry_from_emissions': False,\n",
    "        'aerosol_chemistry_from_concentration': False\n",
    "    }\n",
    "}"
   ]
  },
  {
   "cell_type": "code",
   "execution_count": null,
   "id": "41",
   "metadata": {},
   "outputs": [],
   "source": [
    "g.define_species(species, properties)"
   ]
  },
  {
   "cell_type": "code",
   "execution_count": null,
   "id": "42",
   "metadata": {},
   "outputs": [],
   "source": [
    "g.allocate()"
   ]
  },
  {
   "cell_type": "code",
   "execution_count": null,
   "id": "43",
   "metadata": {},
   "outputs": [],
   "source": [
    "fill(g.forcing, forcing_variants)"
   ]
  },
  {
   "cell_type": "code",
   "execution_count": null,
   "id": "44",
   "metadata": {},
   "outputs": [],
   "source": [
    "np.sum(np.isnan(g.forcing))"
   ]
  },
  {
   "cell_type": "code",
   "execution_count": null,
   "id": "45",
   "metadata": {},
   "outputs": [],
   "source": [
    "g.override_defaults(fair_params_1_4_0_file)"
   ]
  },
  {
   "cell_type": "code",
   "execution_count": null,
   "id": "46",
   "metadata": {},
   "outputs": [],
   "source": [
    "#initialise(f.concentration, f.species_configs[\"baseline_concentration\"])\n",
    "#initialise(f.forcing, 0)\n",
    "initialise(g.temperature, 0)\n",
    "#initialise(f.cumulative_emissions, 0)\n",
    "#initialise(f.airborne_emissions, 0)\n",
    "initialise(g.ocean_heat_content_change, 0)"
   ]
  },
  {
   "cell_type": "code",
   "execution_count": null,
   "id": "47",
   "metadata": {},
   "outputs": [],
   "source": [
    "g.run()"
   ]
  },
  {
   "cell_type": "code",
   "execution_count": null,
   "id": "48",
   "metadata": {},
   "outputs": [],
   "source": [
    "pl.plot((\n",
    "    f.temperature.sel(layer=0, scenario='ssp245') - \n",
    "    g.temperature.sel(layer=0)\n",
    ").median(dim=\"config\"))"
   ]
  },
  {
   "cell_type": "code",
   "execution_count": null,
   "id": "49",
   "metadata": {},
   "outputs": [],
   "source": [
    "ds = xr.Dataset(\n",
    "    data_vars = dict(\n",
    "        temperature = (\n",
    "            [\"timepoints\", \"scenario\", \"config\"], \n",
    "            (\n",
    "                f.temperature.sel(layer=0, scenario='ssp245') - \n",
    "                g.temperature.sel(layer=0)\n",
    "            ).interp(timebounds=f.timepoints).data.transpose(0,2,1)\n",
    "        ),\n",
    "    ),\n",
    "    coords = dict(\n",
    "        timepoints = f.timepoints,\n",
    "        config = f.configs,\n",
    "        scenario = names,\n",
    "    ),\n",
    ")"
   ]
  },
  {
   "cell_type": "code",
   "execution_count": null,
   "id": "50",
   "metadata": {},
   "outputs": [],
   "source": [
    "ds.to_netcdf('../output/temperature-contributions.nc')"
   ]
  },
  {
   "cell_type": "code",
   "execution_count": null,
   "id": "51",
   "metadata": {},
   "outputs": [],
   "source": [
    "(\n",
    "    f.temperature.sel(layer=0, scenario='ssp245') - \n",
    "    g.temperature.sel(layer=0, scenario=names[0])\n",
    ")"
   ]
  },
  {
   "cell_type": "code",
   "execution_count": null,
   "id": "52",
   "metadata": {},
   "outputs": [],
   "source": []
  }
 ],
 "metadata": {
  "kernelspec": {
   "display_name": "Python 3 (ipykernel)",
   "language": "python",
   "name": "python3"
  },
  "language_info": {
   "codemirror_mode": {
    "name": "ipython",
    "version": 3
   },
   "file_extension": ".py",
   "mimetype": "text/x-python",
   "name": "python",
   "nbconvert_exporter": "python",
   "pygments_lexer": "ipython3",
   "version": "3.11.0"
  }
 },
 "nbformat": 4,
 "nbformat_minor": 5
}
