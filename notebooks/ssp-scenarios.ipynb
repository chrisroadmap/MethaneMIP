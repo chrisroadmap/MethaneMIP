{
 "cells": [
  {
   "cell_type": "markdown",
   "id": "0",
   "metadata": {},
   "source": [
    "# Run MethaneMIP scenarios\n",
    "\n",
    "Use fair calibration v1.4.0, which is appropriate for SSP scenarios with corrected NOx emissions."
   ]
  },
  {
   "cell_type": "code",
   "execution_count": null,
   "id": "1",
   "metadata": {},
   "outputs": [],
   "source": [
    "import logging\n",
    "\n",
    "import matplotlib.pyplot as pl\n",
    "import numpy as np\n",
    "import pandas as pd\n",
    "import xarray as xr\n",
    "\n",
    "from fair import FAIR\n",
    "from fair.interface import fill, initialise\n",
    "from fair.io import read_properties"
   ]
  },
  {
   "cell_type": "code",
   "execution_count": null,
   "id": "2",
   "metadata": {},
   "outputs": [],
   "source": [
    "logger = logging.getLogger('fair')\n",
    "logger.setLevel(level=logging.CRITICAL)"
   ]
  },
  {
   "cell_type": "code",
   "execution_count": null,
   "id": "3",
   "metadata": {},
   "outputs": [],
   "source": [
    "f = FAIR(ch4_method=\"Thornhill2021\")"
   ]
  },
  {
   "cell_type": "markdown",
   "id": "4",
   "metadata": {},
   "source": [
    "MethaneMIP scenarios are defined to 2050. CMIP7 might run to 2125, so I have extended to 2130 since emissions are given at 10 years"
   ]
  },
  {
   "cell_type": "code",
   "execution_count": null,
   "id": "5",
   "metadata": {},
   "outputs": [],
   "source": [
    "f.define_time(1750, 2131, 1)"
   ]
  },
  {
   "cell_type": "code",
   "execution_count": null,
   "id": "6",
   "metadata": {},
   "outputs": [],
   "source": [
    "scenarios = [\n",
    "    'ssp119',\n",
    "    'ssp126',\n",
    "    'ssp245',\n",
    "    'ssp370',\n",
    "    'ssp434',\n",
    "    'ssp460',\n",
    "    'ssp534-over',\n",
    "    'ssp585'\n",
    "]"
   ]
  },
  {
   "cell_type": "code",
   "execution_count": null,
   "id": "7",
   "metadata": {},
   "outputs": [],
   "source": [
    "f.define_scenarios(scenarios)"
   ]
  },
  {
   "cell_type": "code",
   "execution_count": null,
   "id": "8",
   "metadata": {},
   "outputs": [],
   "source": [
    "fair_params_1_4_0_file = '../data/parameters/calibrated_constrained_parameters_1.4.0.csv'"
   ]
  },
  {
   "cell_type": "code",
   "execution_count": null,
   "id": "9",
   "metadata": {},
   "outputs": [],
   "source": [
    "df_configs = pd.read_csv(fair_params_1_4_0_file, index_col=0)\n",
    "configs = df_configs.index  # this is used as a label for the \"config\" axis\n",
    "f.define_configs(configs)"
   ]
  },
  {
   "cell_type": "code",
   "execution_count": null,
   "id": "10",
   "metadata": {},
   "outputs": [],
   "source": [
    "fair_species_configs_1_4_0_file = '../data/parameters/species_configs_properties_1.4.0.csv'"
   ]
  },
  {
   "cell_type": "code",
   "execution_count": null,
   "id": "11",
   "metadata": {},
   "outputs": [],
   "source": [
    "species, properties = read_properties(filename=fair_species_configs_1_4_0_file)\n",
    "f.define_species(species, properties)"
   ]
  },
  {
   "cell_type": "code",
   "execution_count": null,
   "id": "12",
   "metadata": {},
   "outputs": [],
   "source": [
    "f.allocate()"
   ]
  },
  {
   "cell_type": "code",
   "execution_count": null,
   "id": "13",
   "metadata": {},
   "outputs": [],
   "source": [
    "f.fill_from_csv(\n",
    "#    emissions_file='../data/emissions/methane-emissions-scenarios.csv',\n",
    "    forcing_file='../data/forcing/volcanic_solar.csv',\n",
    ")"
   ]
  },
  {
   "cell_type": "code",
   "execution_count": null,
   "id": "14",
   "metadata": {},
   "outputs": [],
   "source": [
    "# I was lazy and didn't convert emissions to CSV, so use the old clunky method of importing from netCDF\n",
    "\n",
    "da_emissions = xr.load_dataarray(\"../data/emissions/ssp_emissions_1750-2500.nc\")\n",
    "output_ensemble_size = 841\n",
    "da = da_emissions.loc[dict(config=\"unspecified\")][:381, ...]\n",
    "fe = da.expand_dims(dim=[\"config\"], axis=(2))\n",
    "f.emissions = fe.drop(\"config\") * np.ones((1, 1, output_ensemble_size, 1))"
   ]
  },
  {
   "cell_type": "code",
   "execution_count": null,
   "id": "15",
   "metadata": {},
   "outputs": [],
   "source": [
    "fill(\n",
    "    f.forcing,\n",
    "    f.forcing.sel(specie=\"Volcanic\") * df_configs[\"forcing_scale[Volcanic]\"].values.squeeze(),\n",
    "    specie=\"Volcanic\",\n",
    ")\n",
    "fill(\n",
    "    f.forcing,\n",
    "    f.forcing.sel(specie=\"Solar\") * df_configs[\"forcing_scale[Solar]\"].values.squeeze(),\n",
    "    specie=\"Solar\",\n",
    ")"
   ]
  },
  {
   "cell_type": "code",
   "execution_count": null,
   "id": "16",
   "metadata": {},
   "outputs": [],
   "source": [
    "f.fill_species_configs(fair_species_configs_1_4_0_file)\n",
    "f.override_defaults(fair_params_1_4_0_file)"
   ]
  },
  {
   "cell_type": "code",
   "execution_count": null,
   "id": "17",
   "metadata": {},
   "outputs": [],
   "source": [
    "initialise(f.concentration, f.species_configs[\"baseline_concentration\"])\n",
    "initialise(f.forcing, 0)\n",
    "initialise(f.temperature, 0)\n",
    "initialise(f.cumulative_emissions, 0)\n",
    "initialise(f.airborne_emissions, 0)\n",
    "initialise(f.ocean_heat_content_change, 0)"
   ]
  },
  {
   "cell_type": "code",
   "execution_count": null,
   "id": "18",
   "metadata": {},
   "outputs": [],
   "source": [
    "f.run()"
   ]
  },
  {
   "cell_type": "code",
   "execution_count": null,
   "id": "19",
   "metadata": {},
   "outputs": [],
   "source": [
    "colors = {\n",
    "    \"ssp119\": \"#00a9cf\",\n",
    "    \"ssp126\": \"#003466\",\n",
    "    \"ssp245\": \"#f69320\",\n",
    "    \"ssp370\": \"#df0000\",\n",
    "    \"ssp434\": \"#2274ae\",\n",
    "    \"ssp460\": \"#b0724e\",\n",
    "    \"ssp534-over\": \"#92397a\",\n",
    "    \"ssp585\": \"#980002\",\n",
    "}"
   ]
  },
  {
   "cell_type": "code",
   "execution_count": null,
   "id": "20",
   "metadata": {},
   "outputs": [],
   "source": [
    "for scenario in scenarios:\n",
    "    pl.plot(np.arange(2000, 2131), f.concentration.sel(specie='CH4', scenario=scenario, timebounds=np.arange(2000, 2131)), color=colors[scenario]);\n",
    "# pl.xlim(250, 300)"
   ]
  },
  {
   "cell_type": "code",
   "execution_count": null,
   "id": "21",
   "metadata": {},
   "outputs": [],
   "source": [
    "pd.DataFrame(\n",
    "    f.concentration.sel(specie='CH4').interp(timebounds=f.timepoints).median(dim='config'),\n",
    "    index=f.timepoints,\n",
    "    columns=f.scenarios\n",
    ").to_csv('../output/ssp-ch4-concentration-medians.csv')"
   ]
  },
  {
   "cell_type": "code",
   "execution_count": null,
   "id": "22",
   "metadata": {},
   "outputs": [],
   "source": [
    "for scenario in scenarios:\n",
    "    pl.plot(np.arange(2000, 2131), 10 * f.alpha_lifetime.sel(specie='CH4', scenario=scenario, timebounds=np.arange(2000, 2131)), color=colors[scenario]);"
   ]
  },
  {
   "cell_type": "code",
   "execution_count": null,
   "id": "23",
   "metadata": {},
   "outputs": [],
   "source": [
    "weights = np.zeros((382, 8, 841))\n",
    "weights[100, :, :] = 0.5\n",
    "weights[101:151, :, :] = 1\n",
    "weights[151, :, :] = 0.5\n",
    "weights = xr.DataArray(\n",
    "    weights, \n",
    "    dims=f.temperature.sel(layer=0).dims, \n",
    "    coords=f.temperature.sel(layer=0).coords\n",
    ")"
   ]
  },
  {
   "cell_type": "code",
   "execution_count": null,
   "id": "24",
   "metadata": {},
   "outputs": [],
   "source": [
    "temp_rel_1850_1900 = (\n",
    "    f.temperature.sel(layer=0) - \n",
    "    f.temperature.sel(layer=0, timebounds=np.arange(1850, 1902)).weighted(weights).mean(dim=\"timebounds\")\n",
    ").interp(timebounds=f.timepoints)"
   ]
  },
  {
   "cell_type": "code",
   "execution_count": null,
   "id": "25",
   "metadata": {},
   "outputs": [],
   "source": [
    "temp_rel_1850_1900"
   ]
  },
  {
   "cell_type": "code",
   "execution_count": null,
   "id": "26",
   "metadata": {},
   "outputs": [],
   "source": [
    "ds = xr.Dataset(\n",
    "    data_vars = dict(\n",
    "        temperature = ([\"timepoints\", \"scenario\", \"config\"], temp_rel_1850_1900.data),\n",
    "    ),\n",
    "    coords = dict(\n",
    "        timepoints = f.timepoints,\n",
    "        config = f.configs,\n",
    "        scenario = f.scenarios,\n",
    "    ),\n",
    ")"
   ]
  },
  {
   "cell_type": "code",
   "execution_count": null,
   "id": "27",
   "metadata": {},
   "outputs": [],
   "source": [
    "ds.to_netcdf('../output/ssp-temperature-relative-to-1850-1900.nc')"
   ]
  },
  {
   "cell_type": "code",
   "execution_count": null,
   "id": "28",
   "metadata": {},
   "outputs": [],
   "source": []
  }
 ],
 "metadata": {
  "kernelspec": {
   "display_name": "Python 3 (ipykernel)",
   "language": "python",
   "name": "python3"
  },
  "language_info": {
   "codemirror_mode": {
    "name": "ipython",
    "version": 3
   },
   "file_extension": ".py",
   "mimetype": "text/x-python",
   "name": "python",
   "nbconvert_exporter": "python",
   "pygments_lexer": "ipython3",
   "version": "3.11.0"
  }
 },
 "nbformat": 4,
 "nbformat_minor": 5
}
